{
 "cells": [
  {
   "cell_type": "code",
   "execution_count": 1,
   "metadata": {},
   "outputs": [
    {
     "name": "stderr",
     "output_type": "stream",
     "text": [
      "d:\\Asus\\Ungdung\\Anacoda\\Anacoda\\envs\\clip_chroma_streamlit\\lib\\site-packages\\tqdm\\auto.py:21: TqdmWarning: IProgress not found. Please update jupyter and ipywidgets. See https://ipywidgets.readthedocs.io/en/stable/user_install.html\n",
      "  from .autonotebook import tqdm as notebook_tqdm\n"
     ]
    }
   ],
   "source": [
    "import torch\n",
    "import requests\n",
    "import pandas as pd\n",
    "from PIL import Image\n",
    "from io import BytesIO\n",
    "from datasets import load_dataset\n",
    "from transformers import CLIPProcessor, CLIPModel, CLIPTokenizer\n",
    "from tqdm import tqdm\n",
    "\n",
    "# Kích hoạt tiến trình cho pandas\n",
    "tqdm.pandas()"
   ]
  },
  {
   "cell_type": "code",
   "execution_count": 2,
   "metadata": {},
   "outputs": [],
   "source": [
    "def get_model_info(model_id, device):\n",
    "\n",
    "  # Save the model to device\n",
    "  model = CLIPModel.from_pretrained(model_id).to(device)\n",
    "\n",
    "  # Get the processor\n",
    "  processor = CLIPProcessor.from_pretrained(model_id)\n",
    "\n",
    "  # Get the tokenizer\n",
    "  tokenizer = CLIPTokenizer.from_pretrained(model_id)\n",
    "\n",
    "  # Return model, processor & tokenizer\n",
    "  return model, processor, tokenizer"
   ]
  },
  {
   "cell_type": "code",
   "execution_count": 3,
   "metadata": {},
   "outputs": [
    {
     "name": "stderr",
     "output_type": "stream",
     "text": [
      "d:\\Asus\\Ungdung\\Anacoda\\Anacoda\\envs\\clip_chroma_streamlit\\lib\\site-packages\\transformers\\tokenization_utils_base.py:1601: FutureWarning: `clean_up_tokenization_spaces` was not set. It will be set to `True` by default. This behavior will be depracted in transformers v4.45, and will be then set to `False` by default. For more details check this issue: https://github.com/huggingface/transformers/issues/31884\n",
      "  warnings.warn(\n"
     ]
    }
   ],
   "source": [
    "device = \"cuda\" if torch.cuda.is_available() else \"cpu\"\n",
    "\n",
    "model_ID = \"openai/clip-vit-base-patch32\"\n",
    "model, processor, tokenizer = get_model_info(model_ID, device)"
   ]
  },
  {
   "cell_type": "code",
   "execution_count": 4,
   "metadata": {},
   "outputs": [],
   "source": [
    "def get_single_text_embedding(text):\n",
    "    # trả về là 1 tensor\n",
    "    inputs = tokenizer(text, return_tensors='pt')\n",
    "    text_embeddings = model.get_text_features(**inputs)\n",
    "    # convert the embeddings to numpy array\n",
    "    embedding_as_np = text_embeddings.cpu().detach().numpy()\n",
    "    return embedding_as_np[0].tolist()\n",
    "\n",
    "\n",
    "embedding = get_single_text_embedding('a very typical bus station')"
   ]
  },
  {
   "cell_type": "code",
   "execution_count": 5,
   "metadata": {},
   "outputs": [],
   "source": [
    "import chromadb\n",
    "db_path = r\"./server/database/database_multimodal\"\n",
    "\n",
    "client = chromadb.PersistentClient(path=db_path)"
   ]
  },
  {
   "cell_type": "code",
   "execution_count": 7,
   "metadata": {},
   "outputs": [],
   "source": [
    "collection = client.get_or_create_collection(\n",
    "    name='text_to_image_collection',\n",
    "    metadata={\"hnsw:space\": \"cosine\"},\n",
    ")"
   ]
  },
  {
   "cell_type": "code",
   "execution_count": 11,
   "metadata": {},
   "outputs": [],
   "source": [
    "embedding = get_single_text_embedding(\n",
    "    'functions of government : 1 . form a more perfect union')\n",
    "results = collection.query(\n",
    "    query_embeddings=embedding,\n",
    "    n_results=5,\n",
    "    include=['metadatas', 'distances']\n",
    ")"
   ]
  },
  {
   "cell_type": "code",
   "execution_count": 12,
   "metadata": {},
   "outputs": [
    {
     "data": {
      "text/plain": [
       "{'ids': [['id_9', 'id_945', 'id_166', 'id_373', 'id_1331']],\n",
       " 'distances': [[0.5971044301986694,\n",
       "   0.7362351417541504,\n",
       "   0.7395954132080078,\n",
       "   0.7414260506629944,\n",
       "   0.7416597008705139]],\n",
       " 'metadatas': [[{'caption': 'functions of government : 1 . form a more perfect union'},\n",
       "   {'caption': 'large group of people in the shape of circle .'},\n",
       "   {'caption': 'peaking through the blossoms to catch a glimpse .'},\n",
       "   {'caption': 'parts of the fish and the function'},\n",
       "   {'caption': 'a flag waves at the building as filming location prepares for second inauguration .'}]],\n",
       " 'embeddings': None,\n",
       " 'documents': None,\n",
       " 'uris': None,\n",
       " 'data': None}"
      ]
     },
     "execution_count": 12,
     "metadata": {},
     "output_type": "execute_result"
    }
   ],
   "source": [
    "results"
   ]
  }
 ],
 "metadata": {
  "kernelspec": {
   "display_name": "clip_chroma_streamlit",
   "language": "python",
   "name": "python3"
  },
  "language_info": {
   "codemirror_mode": {
    "name": "ipython",
    "version": 3
   },
   "file_extension": ".py",
   "mimetype": "text/x-python",
   "name": "python",
   "nbconvert_exporter": "python",
   "pygments_lexer": "ipython3",
   "version": "3.8.19"
  }
 },
 "nbformat": 4,
 "nbformat_minor": 2
}

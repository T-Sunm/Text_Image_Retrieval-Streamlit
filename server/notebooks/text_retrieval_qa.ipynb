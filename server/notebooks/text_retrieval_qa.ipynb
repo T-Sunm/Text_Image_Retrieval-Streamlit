{
 "cells": [
  {
   "cell_type": "code",
   "execution_count": 1,
   "metadata": {},
   "outputs": [],
   "source": [
    "# ! pip install -qq datasets==2.16.1"
   ]
  },
  {
   "cell_type": "markdown",
   "metadata": {},
   "source": [
    "## Import libary and load dataset"
   ]
  },
  {
   "cell_type": "code",
   "execution_count": 2,
   "metadata": {},
   "outputs": [
    {
     "name": "stderr",
     "output_type": "stream",
     "text": [
      "d:\\Asus\\Ungdung\\Miniconda\\workspace\\envs\\text_img_retrieval\\lib\\site-packages\\tqdm\\auto.py:21: TqdmWarning: IProgress not found. Please update jupyter and ipywidgets. See https://ipywidgets.readthedocs.io/en/stable/user_install.html\n",
      "  from .autonotebook import tqdm as notebook_tqdm\n"
     ]
    },
    {
     "data": {
      "text/plain": [
       "device(type='cpu')"
      ]
     },
     "execution_count": 2,
     "metadata": {},
     "output_type": "execute_result"
    }
   ],
   "source": [
    "from datasets import load_dataset\n",
    "from transformers import AutoTokenizer\n",
    "from transformers import AutoModelForQuestionAnswering\n",
    "from transformers import TrainingArguments\n",
    "from transformers import Trainer\n",
    "from transformers import AutoModel, AutoTokenizer\n",
    "import torch\n",
    "\n",
    "device = torch.device(\n",
    "    \"cuda\") if torch.cuda.is_available() else torch.device(\"cpu\")\n",
    "device"
   ]
  },
  {
   "cell_type": "markdown",
   "metadata": {},
   "source": [
    "#### Load dataset"
   ]
  },
  {
   "cell_type": "code",
   "execution_count": 3,
   "metadata": {},
   "outputs": [
    {
     "name": "stderr",
     "output_type": "stream",
     "text": [
      "Downloading readme: 100%|██████████| 7.62k/7.62k [00:00<?, ?B/s]\n",
      "Downloading data: 100%|██████████| 14.5M/14.5M [00:04<00:00, 3.43MB/s]\n",
      "Downloading data: 100%|██████████| 1.82M/1.82M [00:01<00:00, 988kB/s]\n",
      "Generating train split: 100%|██████████| 87599/87599 [00:00<00:00, 595207.51 examples/s]\n",
      "Generating validation split: 100%|██████████| 10570/10570 [00:00<00:00, 674124.43 examples/s]\n"
     ]
    }
   ],
   "source": [
    "DATASET_NAME = \"squad\"\n",
    "raw_datasets = load_dataset(DATASET_NAME)"
   ]
  },
  {
   "cell_type": "code",
   "execution_count": 4,
   "metadata": {},
   "outputs": [
    {
     "data": {
      "text/plain": [
       "DatasetDict({\n",
       "    train: Dataset({\n",
       "        features: ['id', 'title', 'context', 'question', 'answers'],\n",
       "        num_rows: 87599\n",
       "    })\n",
       "    validation: Dataset({\n",
       "        features: ['id', 'title', 'context', 'question', 'answers'],\n",
       "        num_rows: 10570\n",
       "    })\n",
       "})"
      ]
     },
     "execution_count": 4,
     "metadata": {},
     "output_type": "execute_result"
    }
   ],
   "source": [
    "raw_datasets"
   ]
  },
  {
   "cell_type": "code",
   "execution_count": 5,
   "metadata": {},
   "outputs": [
    {
     "data": {
      "text/plain": [
       "{'id': '5733be284776f41900661180',\n",
       " 'title': 'University_of_Notre_Dame',\n",
       " 'context': 'Architecturally, the school has a Catholic character. Atop the Main Building\\'s gold dome is a golden statue of the Virgin Mary. Immediately in front of the Main Building and facing it, is a copper statue of Christ with arms upraised with the legend \"Venite Ad Me Omnes\". Next to the Main Building is the Basilica of the Sacred Heart. Immediately behind the basilica is the Grotto, a Marian place of prayer and reflection. It is a replica of the grotto at Lourdes, France where the Virgin Mary reputedly appeared to Saint Bernadette Soubirous in 1858. At the end of the main drive (and in a direct line that connects through 3 statues and the Gold Dome), is a simple, modern stone statue of Mary.',\n",
       " 'question': 'The Basilica of the Sacred heart at Notre Dame is beside to which structure?',\n",
       " 'answers': {'text': ['the Main Building'], 'answer_start': [279]}}"
      ]
     },
     "execution_count": 5,
     "metadata": {},
     "output_type": "execute_result"
    }
   ],
   "source": [
    "raw_datasets['train'][2]"
   ]
  },
  {
   "cell_type": "markdown",
   "metadata": {},
   "source": [
    "### Preprocessing"
   ]
  },
  {
   "cell_type": "code",
   "execution_count": 6,
   "metadata": {},
   "outputs": [
    {
     "name": "stderr",
     "output_type": "stream",
     "text": [
      "d:\\Asus\\Ungdung\\Miniconda\\workspace\\envs\\text_img_retrieval\\lib\\site-packages\\transformers\\tokenization_utils_base.py:1601: FutureWarning: `clean_up_tokenization_spaces` was not set. It will be set to `True` by default. This behavior will be depracted in transformers v4.45, and will be then set to `False` by default. For more details check this issue: https://github.com/huggingface/transformers/issues/31884\n",
      "  warnings.warn(\n"
     ]
    }
   ],
   "source": [
    "MAX_LENGTH = 384\n",
    "STRIDE = 128\n",
    "MODEL_NAME = \"distilbert-base-uncased\"\n",
    "tokenizer = AutoTokenizer.from_pretrained(MODEL_NAME)\n",
    "model = AutoModel.from_pretrained(MODEL_NAME).to(device)"
   ]
  },
  {
   "cell_type": "code",
   "execution_count": 7,
   "metadata": {},
   "outputs": [
    {
     "name": "stderr",
     "output_type": "stream",
     "text": [
      "Filter: 100%|██████████| 87599/87599 [00:02<00:00, 34106.33 examples/s]\n",
      "Filter: 100%|██████████| 10570/10570 [00:00<00:00, 38486.07 examples/s]\n"
     ]
    }
   ],
   "source": [
    "ds_filter = raw_datasets.filter(\n",
    "        lambda x: len(x['answers']['text']) > 0\n",
    "    )"
   ]
  },
  {
   "cell_type": "code",
   "execution_count": 8,
   "metadata": {},
   "outputs": [],
   "source": [
    "def cls_pooling(model_output):\n",
    "    return model_output.last_hidden_state[:, 0]\n",
    "\n",
    "def get_embeddings(question):\n",
    "    encoded_input = tokenizer(\n",
    "        question,\n",
    "        padding=True,\n",
    "        truncation=True,\n",
    "        return_tensors='pt'\n",
    "    )\n",
    "    encoded_input = {k: v.to(device) for k, v in encoded_input.items()}\n",
    "    model_output = model(**encoded_input)\n",
    "\n",
    "    return cls_pooling(model_output)"
   ]
  },
  {
   "cell_type": "code",
   "execution_count": 9,
   "metadata": {},
   "outputs": [
    {
     "data": {
      "text/plain": [
       "Dataset({\n",
       "    features: ['id', 'context', 'question'],\n",
       "    num_rows: 100\n",
       "})"
      ]
     },
     "execution_count": 9,
     "metadata": {},
     "output_type": "execute_result"
    }
   ],
   "source": [
    "# Áp dụng map() và set_format(\"torch\") để tự động chuyển thành tensor\n",
    "train = raw_datasets['train'].select(range(100))\n",
    "val = raw_datasets['validation'].select(range(100))\n",
    "\n",
    "# Thay 'col1', 'col2' bằng tên cột thực tế\n",
    "columns_to_remove = ['title', 'answers']\n",
    "train = train.remove_columns(columns_to_remove)\n",
    "val = val.remove_columns(columns_to_remove)\n",
    "train"
   ]
  },
  {
   "cell_type": "code",
   "execution_count": 10,
   "metadata": {},
   "outputs": [
    {
     "data": {
      "text/plain": [
       "torch.Size([1, 768])"
      ]
     },
     "execution_count": 10,
     "metadata": {},
     "output_type": "execute_result"
    }
   ],
   "source": [
    "get_embeddings(train[0]['question']).size()"
   ]
  },
  {
   "cell_type": "code",
   "execution_count": 11,
   "metadata": {},
   "outputs": [],
   "source": [
    "import chromadb\n",
    "from tqdm import tqdm\n",
    "import json\n",
    "def add_texts_to_collection(collection: chromadb.Collection, datasets, batch_size=40000):\n",
    "  \"\"\"Thêm văn bản và embeddings của chúng vào collection ChromaDB.\"\"\"\n",
    "  ids_path = []\n",
    "  embeddings = []\n",
    "  answers = []\n",
    "  for text in tqdm(datasets, total=len(datasets)):\n",
    "    try:\n",
    "      embedding_question = get_embeddings(text['question'])\n",
    "      ids_path.append(text['id'])\n",
    "      embeddings.append(embedding_question.tolist()[0])\n",
    "\n",
    "      # lưu thông tin\n",
    "      selected_text = {'question' : text['question'], 'context': text['context']}\n",
    "      answers.append(json.dumps(selected_text))\n",
    "      # Kiểm tra nếu số lượng dữ liệu đã đạt đến batch_size\n",
    "      if len(ids_path) >= batch_size:\n",
    "\n",
    "        collection.add(ids=ids_path, embeddings=embeddings, documents=answers)\n",
    "        ids_path = []  # Reset lại danh sách sau khi thêm vào collection\n",
    "        embeddings = []\n",
    "        answers = []\n",
    "    except Exception as e:\n",
    "      print(f\"Error processing in corpus {text['id']}: {e}\")\n",
    "\n",
    "  # Thêm batch cuối cùng nếu còn dữ liệu\n",
    "  if ids_path:\n",
    "    collection.add(ids=ids_path, embeddings=embeddings, documents=answers)\n",
    "\n",
    "  print(f\"Finished adding {len(datasets)} texts to the collection.\")"
   ]
  },
  {
   "cell_type": "code",
   "execution_count": 12,
   "metadata": {},
   "outputs": [
    {
     "name": "stdout",
     "output_type": "stream",
     "text": [
      "Database already exists at ../database/database_textqa. Skipping creation.\n"
     ]
    },
    {
     "name": "stderr",
     "output_type": "stream",
     "text": [
      "100%|██████████| 100/100 [00:03<00:00, 30.04it/s]\n",
      "Insert of existing embedding ID: 5733be284776f41900661182\n",
      "Insert of existing embedding ID: 5733be284776f4190066117f\n",
      "Insert of existing embedding ID: 5733be284776f41900661180\n",
      "Insert of existing embedding ID: 5733be284776f41900661181\n",
      "Insert of existing embedding ID: 5733be284776f4190066117e\n",
      "Insert of existing embedding ID: 5733bf84d058e614000b61be\n",
      "Insert of existing embedding ID: 5733bf84d058e614000b61bf\n",
      "Insert of existing embedding ID: 5733bf84d058e614000b61c0\n",
      "Insert of existing embedding ID: 5733bf84d058e614000b61bd\n",
      "Insert of existing embedding ID: 5733bf84d058e614000b61c1\n",
      "Insert of existing embedding ID: 5733bed24776f41900661188\n",
      "Insert of existing embedding ID: 5733bed24776f41900661189\n",
      "Insert of existing embedding ID: 5733bed24776f4190066118a\n",
      "Insert of existing embedding ID: 5733bed24776f4190066118b\n",
      "Insert of existing embedding ID: 5733bed24776f4190066118c\n",
      "Insert of existing embedding ID: 5733a6424776f41900660f51\n",
      "Insert of existing embedding ID: 5733a6424776f41900660f4e\n",
      "Insert of existing embedding ID: 5733a6424776f41900660f4f\n",
      "Insert of existing embedding ID: 5733a6424776f41900660f50\n",
      "Insert of existing embedding ID: 5733a6424776f41900660f52\n",
      "Insert of existing embedding ID: 5733a70c4776f41900660f64\n",
      "Insert of existing embedding ID: 5733a70c4776f41900660f62\n",
      "Insert of existing embedding ID: 5733a70c4776f41900660f63\n",
      "Insert of existing embedding ID: 5733a70c4776f41900660f65\n",
      "Insert of existing embedding ID: 5733a7bd4776f41900660f6b\n",
      "Insert of existing embedding ID: 5733a7bd4776f41900660f6c\n",
      "Insert of existing embedding ID: 5733a7bd4776f41900660f6e\n",
      "Insert of existing embedding ID: 5733a7bd4776f41900660f6a\n",
      "Insert of existing embedding ID: 5733a7bd4776f41900660f6d\n",
      "Insert of existing embedding ID: 5733ac31d058e614000b5ff3\n",
      "Insert of existing embedding ID: 5733ac31d058e614000b5ff6\n",
      "Insert of existing embedding ID: 5733ac31d058e614000b5ff4\n",
      "Insert of existing embedding ID: 5733ac31d058e614000b5ff5\n",
      "Insert of existing embedding ID: 5733ac31d058e614000b5ff7\n",
      "Insert of existing embedding ID: 5733ad384776f41900660fec\n",
      "Insert of existing embedding ID: 5733ad384776f41900660fed\n",
      "Insert of existing embedding ID: 5733ad384776f41900660fee\n",
      "Insert of existing embedding ID: 5733ad384776f41900660fef\n",
      "Insert of existing embedding ID: 5733ad384776f41900660ff0\n",
      "Insert of existing embedding ID: 5733ae924776f41900661014\n",
      "Insert of existing embedding ID: 5733ae924776f41900661013\n",
      "Insert of existing embedding ID: 5733ae924776f41900661015\n",
      "Insert of existing embedding ID: 5733ae924776f41900661016\n",
      "Insert of existing embedding ID: 5733ae924776f41900661017\n",
      "Insert of existing embedding ID: 5733afd3d058e614000b6045\n",
      "Insert of existing embedding ID: 5733afd3d058e614000b6047\n",
      "Insert of existing embedding ID: 5733afd3d058e614000b6048\n",
      "Insert of existing embedding ID: 5733afd3d058e614000b6046\n",
      "Insert of existing embedding ID: 5733afd3d058e614000b6049\n",
      "Insert of existing embedding ID: 5733b0fb4776f41900661041\n",
      "Insert of existing embedding ID: 5733b0fb4776f41900661043\n",
      "Insert of existing embedding ID: 5733b0fb4776f41900661044\n",
      "Insert of existing embedding ID: 5733b0fb4776f41900661045\n",
      "Insert of existing embedding ID: 5733b0fb4776f41900661042\n",
      "Insert of existing embedding ID: 5733b1da4776f41900661068\n",
      "Insert of existing embedding ID: 5733b1da4776f41900661069\n",
      "Insert of existing embedding ID: 5733b1da4776f4190066106a\n",
      "Insert of existing embedding ID: 5733b1da4776f4190066106b\n",
      "Insert of existing embedding ID: 5733b1da4776f41900661067\n",
      "Insert of existing embedding ID: 5733b2fe4776f4190066108f\n",
      "Insert of existing embedding ID: 5733b2fe4776f41900661091\n",
      "Insert of existing embedding ID: 5733b2fe4776f41900661092\n",
      "Insert of existing embedding ID: 5733b2fe4776f41900661093\n",
      "Insert of existing embedding ID: 5733b2fe4776f41900661090\n",
      "Insert of existing embedding ID: 5733b3d64776f419006610a3\n",
      "Insert of existing embedding ID: 5733b3d64776f419006610a4\n",
      "Insert of existing embedding ID: 5733b3d64776f419006610a5\n",
      "Insert of existing embedding ID: 5733b3d64776f419006610a6\n",
      "Insert of existing embedding ID: 5733b5344776f419006610dd\n",
      "Insert of existing embedding ID: 5733b5344776f419006610de\n",
      "Insert of existing embedding ID: 5733b5344776f419006610df\n",
      "Insert of existing embedding ID: 5733b5344776f419006610e0\n",
      "Insert of existing embedding ID: 5733b5344776f419006610e1\n",
      "Insert of existing embedding ID: 5733b5df4776f41900661105\n",
      "Insert of existing embedding ID: 5733b5df4776f41900661106\n",
      "Insert of existing embedding ID: 5733b5df4776f41900661107\n",
      "Insert of existing embedding ID: 5733b5df4776f41900661108\n",
      "Insert of existing embedding ID: 5733b5df4776f41900661109\n",
      "Insert of existing embedding ID: 5733b699d058e614000b6118\n",
      "Insert of existing embedding ID: 5733b699d058e614000b6119\n",
      "Insert of existing embedding ID: 5733b699d058e614000b611a\n",
      "Insert of existing embedding ID: 5733b699d058e614000b611b\n",
      "Insert of existing embedding ID: 5733b699d058e614000b611c\n",
      "Insert of existing embedding ID: 5733b7f74776f4190066112d\n",
      "Insert of existing embedding ID: 5733b7f74776f4190066112e\n",
      "Insert of existing embedding ID: 5733b7f74776f4190066112f\n",
      "Insert of existing embedding ID: 5733b7f74776f41900661130\n",
      "Insert of existing embedding ID: 5733b7f74776f41900661131\n",
      "Insert of existing embedding ID: 57338653d058e614000b5c84\n",
      "Insert of existing embedding ID: 57338653d058e614000b5c81\n",
      "Insert of existing embedding ID: 57338653d058e614000b5c82\n",
      "Insert of existing embedding ID: 57338653d058e614000b5c83\n",
      "Insert of existing embedding ID: 57338653d058e614000b5c85\n",
      "Insert of existing embedding ID: 57338724d058e614000b5c9f\n",
      "Insert of existing embedding ID: 57338724d058e614000b5ca1\n",
      "Insert of existing embedding ID: 57338724d058e614000b5c9d\n",
      "Insert of existing embedding ID: 57338724d058e614000b5c9e\n",
      "Insert of existing embedding ID: 57338724d058e614000b5ca0\n",
      "Insert of existing embedding ID: 573387acd058e614000b5cb1\n",
      "Insert of existing embedding ID: 573387acd058e614000b5cb2\n",
      "Add of existing embedding ID: 5733be284776f41900661182\n",
      "Add of existing embedding ID: 5733be284776f4190066117f\n",
      "Add of existing embedding ID: 5733be284776f41900661180\n",
      "Add of existing embedding ID: 5733be284776f41900661181\n",
      "Add of existing embedding ID: 5733be284776f4190066117e\n",
      "Add of existing embedding ID: 5733bf84d058e614000b61be\n",
      "Add of existing embedding ID: 5733bf84d058e614000b61bf\n",
      "Add of existing embedding ID: 5733bf84d058e614000b61c0\n",
      "Add of existing embedding ID: 5733bf84d058e614000b61bd\n",
      "Add of existing embedding ID: 5733bf84d058e614000b61c1\n",
      "Add of existing embedding ID: 5733bed24776f41900661188\n",
      "Add of existing embedding ID: 5733bed24776f41900661189\n",
      "Add of existing embedding ID: 5733bed24776f4190066118a\n",
      "Add of existing embedding ID: 5733bed24776f4190066118b\n",
      "Add of existing embedding ID: 5733bed24776f4190066118c\n",
      "Add of existing embedding ID: 5733a6424776f41900660f51\n",
      "Add of existing embedding ID: 5733a6424776f41900660f4e\n",
      "Add of existing embedding ID: 5733a6424776f41900660f4f\n",
      "Add of existing embedding ID: 5733a6424776f41900660f50\n",
      "Add of existing embedding ID: 5733a6424776f41900660f52\n",
      "Add of existing embedding ID: 5733a70c4776f41900660f64\n",
      "Add of existing embedding ID: 5733a70c4776f41900660f62\n",
      "Add of existing embedding ID: 5733a70c4776f41900660f63\n",
      "Add of existing embedding ID: 5733a70c4776f41900660f65\n",
      "Add of existing embedding ID: 5733a7bd4776f41900660f6b\n",
      "Add of existing embedding ID: 5733a7bd4776f41900660f6c\n",
      "Add of existing embedding ID: 5733a7bd4776f41900660f6e\n",
      "Add of existing embedding ID: 5733a7bd4776f41900660f6a\n",
      "Add of existing embedding ID: 5733a7bd4776f41900660f6d\n",
      "Add of existing embedding ID: 5733ac31d058e614000b5ff3\n",
      "Add of existing embedding ID: 5733ac31d058e614000b5ff6\n",
      "Add of existing embedding ID: 5733ac31d058e614000b5ff4\n",
      "Add of existing embedding ID: 5733ac31d058e614000b5ff5\n",
      "Add of existing embedding ID: 5733ac31d058e614000b5ff7\n",
      "Add of existing embedding ID: 5733ad384776f41900660fec\n",
      "Add of existing embedding ID: 5733ad384776f41900660fed\n",
      "Add of existing embedding ID: 5733ad384776f41900660fee\n",
      "Add of existing embedding ID: 5733ad384776f41900660fef\n",
      "Add of existing embedding ID: 5733ad384776f41900660ff0\n",
      "Add of existing embedding ID: 5733ae924776f41900661014\n",
      "Add of existing embedding ID: 5733ae924776f41900661013\n",
      "Add of existing embedding ID: 5733ae924776f41900661015\n",
      "Add of existing embedding ID: 5733ae924776f41900661016\n",
      "Add of existing embedding ID: 5733ae924776f41900661017\n",
      "Add of existing embedding ID: 5733afd3d058e614000b6045\n",
      "Add of existing embedding ID: 5733afd3d058e614000b6047\n",
      "Add of existing embedding ID: 5733afd3d058e614000b6048\n",
      "Add of existing embedding ID: 5733afd3d058e614000b6046\n",
      "Add of existing embedding ID: 5733afd3d058e614000b6049\n",
      "Add of existing embedding ID: 5733b0fb4776f41900661041\n",
      "Add of existing embedding ID: 5733b0fb4776f41900661043\n",
      "Add of existing embedding ID: 5733b0fb4776f41900661044\n",
      "Add of existing embedding ID: 5733b0fb4776f41900661045\n",
      "Add of existing embedding ID: 5733b0fb4776f41900661042\n",
      "Add of existing embedding ID: 5733b1da4776f41900661068\n",
      "Add of existing embedding ID: 5733b1da4776f41900661069\n",
      "Add of existing embedding ID: 5733b1da4776f4190066106a\n",
      "Add of existing embedding ID: 5733b1da4776f4190066106b\n",
      "Add of existing embedding ID: 5733b1da4776f41900661067\n",
      "Add of existing embedding ID: 5733b2fe4776f4190066108f\n",
      "Add of existing embedding ID: 5733b2fe4776f41900661091\n",
      "Add of existing embedding ID: 5733b2fe4776f41900661092\n",
      "Add of existing embedding ID: 5733b2fe4776f41900661093\n",
      "Add of existing embedding ID: 5733b2fe4776f41900661090\n",
      "Add of existing embedding ID: 5733b3d64776f419006610a3\n",
      "Add of existing embedding ID: 5733b3d64776f419006610a4\n",
      "Add of existing embedding ID: 5733b3d64776f419006610a5\n",
      "Add of existing embedding ID: 5733b3d64776f419006610a6\n",
      "Add of existing embedding ID: 5733b5344776f419006610dd\n",
      "Add of existing embedding ID: 5733b5344776f419006610de\n",
      "Add of existing embedding ID: 5733b5344776f419006610df\n",
      "Add of existing embedding ID: 5733b5344776f419006610e0\n",
      "Add of existing embedding ID: 5733b5344776f419006610e1\n",
      "Add of existing embedding ID: 5733b5df4776f41900661105\n",
      "Add of existing embedding ID: 5733b5df4776f41900661106\n",
      "Add of existing embedding ID: 5733b5df4776f41900661107\n",
      "Add of existing embedding ID: 5733b5df4776f41900661108\n",
      "Add of existing embedding ID: 5733b5df4776f41900661109\n",
      "Add of existing embedding ID: 5733b699d058e614000b6118\n",
      "Add of existing embedding ID: 5733b699d058e614000b6119\n",
      "Add of existing embedding ID: 5733b699d058e614000b611a\n",
      "Add of existing embedding ID: 5733b699d058e614000b611b\n",
      "Add of existing embedding ID: 5733b699d058e614000b611c\n",
      "Add of existing embedding ID: 5733b7f74776f4190066112d\n",
      "Add of existing embedding ID: 5733b7f74776f4190066112e\n",
      "Add of existing embedding ID: 5733b7f74776f4190066112f\n",
      "Add of existing embedding ID: 5733b7f74776f41900661130\n",
      "Add of existing embedding ID: 5733b7f74776f41900661131\n",
      "Add of existing embedding ID: 57338653d058e614000b5c84\n",
      "Add of existing embedding ID: 57338653d058e614000b5c81\n",
      "Add of existing embedding ID: 57338653d058e614000b5c82\n",
      "Add of existing embedding ID: 57338653d058e614000b5c83\n",
      "Add of existing embedding ID: 57338653d058e614000b5c85\n",
      "Add of existing embedding ID: 57338724d058e614000b5c9f\n",
      "Add of existing embedding ID: 57338724d058e614000b5ca1\n",
      "Add of existing embedding ID: 57338724d058e614000b5c9d\n",
      "Add of existing embedding ID: 57338724d058e614000b5c9e\n",
      "Add of existing embedding ID: 57338724d058e614000b5ca0\n",
      "Add of existing embedding ID: 573387acd058e614000b5cb1\n",
      "Add of existing embedding ID: 573387acd058e614000b5cb2\n"
     ]
    },
    {
     "name": "stdout",
     "output_type": "stream",
     "text": [
      "Finished adding 100 texts to the collection.\n"
     ]
    }
   ],
   "source": [
    "import os\n",
    "import chromadb\n",
    "\n",
    "# Đường dẫn database\n",
    "db_path = r\"../database/database_textqa\"\n",
    "\n",
    "# Kiểm tra xem database đã tồn tại chưa\n",
    "if os.path.exists(db_path):\n",
    "    print(f\"Database already exists at {db_path}. Skipping creation.\")\n",
    "else:\n",
    "    print(\"Database does not exist. Creating new database...\")\n",
    "\n",
    "# Khởi tạo client với đường dẫn đã cho\n",
    "client = chromadb.PersistentClient(path=db_path)\n",
    "\n",
    "# Tạo hoặc lấy collection nếu chưa tồn tại\n",
    "collection_textqa = client.get_or_create_collection(\n",
    "    name='textqa_collection',\n",
    "    metadata={\"hnsw:space\": \"cosine\"}\n",
    ")\n",
    "\n",
    "# Thêm văn bản vào collection\n",
    "add_texts_to_collection(collection_textqa, train)"
   ]
  },
  {
   "cell_type": "markdown",
   "metadata": {},
   "source": [
    "## Search similar samples with a question"
   ]
  },
  {
   "cell_type": "code",
   "execution_count": null,
   "metadata": {},
   "outputs": [
    {
     "data": {
      "text/plain": [
       "{'ids': [['5733b2fe4776f41900661090',\n",
       "   '5733bf84d058e614000b61be',\n",
       "   '5733b5344776f419006610df',\n",
       "   '57338653d058e614000b5c81',\n",
       "   '5733b0fb4776f41900661044']],\n",
       " 'distances': [[0.06992483139038086,\n",
       "   0.07138818502426147,\n",
       "   0.07344293594360352,\n",
       "   0.07437008619308472,\n",
       "   0.07447588443756104]],\n",
       " 'metadatas': [[None, None, None, None, None]],\n",
       " 'embeddings': None,\n",
       " 'documents': [['{\"question\": \"When did study of a germ-free-life begin at Notre Dame?\", \"context\": \"The Lobund Institute grew out of pioneering research in germ-free-life which began in 1928. This area of research originated in a question posed by Pasteur as to whether animal life was possible without bacteria. Though others had taken up this idea, their research was short lived and inconclusive. Lobund was the first research organization to answer definitively, that such life is possible and that it can be prolonged through generations. But the objective was not merely to answer Pasteur\\'s question but also to produce the germ free animal as a new tool for biological and medical research. This objective was reached and for years Lobund was a unique center for the study and production of germ free animals and for their use in biological and medical investigations. Today the work has spread to other universities. In the beginning it was under the Department of Biology and a program leading to the master\\'s degree accompanied the research program. In the 1940s Lobund achieved independent status as a purely research organization and in 1950 was raised to the status of an Institute. In 1958 it was brought back into the Department of Biology as integral part of that department, but with its own program leading to the degree of PhD in Gnotobiotics.\"}',\n",
       "   '{\"question\": \"When did the Scholastic Magazine of Notre dame begin publishing?\", \"context\": \"As at most other universities, Notre Dame\\'s students run a number of news media outlets. The nine student-run outlets include three newspapers, both a radio and television station, and several magazines and journals. Begun as a one-page journal in September 1876, the Scholastic magazine is issued twice monthly and claims to be the oldest continuous collegiate publication in the United States. The other magazine, The Juggler, is released twice a year and focuses on student literature and artwork. The Dome yearbook is published annually. The newspapers have varying publication interests, with The Observer published daily and mainly reporting university and other news, and staffed by students from both Notre Dame and Saint Mary\\'s College. Unlike Scholastic and The Dome, The Observer is an independent publication and does not have a faculty advisor or any editorial oversight from the University. In 1987, when some students believed that The Observer began to show a conservative bias, a liberal newspaper, Common Sense was published. Likewise, in 2003, when other students believed that the paper showed a liberal bias, the conservative paper Irish Rover went into production. Neither paper is published as often as The Observer; however, all three are distributed to all students. Finally, in Spring 2008 an undergraduate journal for political science research, Beyond Politics, made its debut.\"}',\n",
       "   '{\"question\": \"What does the Kroc Institute at Notre Dame focus on?\", \"context\": \"As of 2012[update] research continued in many fields. The university president, John Jenkins, described his hope that Notre Dame would become \\\\\"one of the pre\\\\u2013eminent research institutions in the world\\\\\" in his inaugural address. The university has many multi-disciplinary institutes devoted to research in varying fields, including the Medieval Institute, the Kellogg Institute for International Studies, the Kroc Institute for International Peace studies, and the Center for Social Concerns. Recent research includes work on family conflict and child development, genome mapping, the increasing trade deficit of the United States with China, studies in fluid mechanics, computational science and engineering, and marketing trends on the Internet. As of 2013, the university is home to the Notre Dame Global Adaptation Index which ranks countries annually based on how vulnerable they are to climate change and how prepared they are to adapt.\"}',\n",
       "   '{\"question\": \"In what year was the Main Building at Notre Dame razed in a fire?\", \"context\": \"This Main Building, and the library collection, was entirely destroyed by a fire in April 1879, and the school closed immediately and students were sent home. The university founder, Fr. Sorin and the president at the time, the Rev. William Corby, immediately planned for the rebuilding of the structure that had housed virtually the entire University. Construction was started on the 17th of May and by the incredible zeal of administrator and workers the building was completed before the fall semester of 1879. The library collection was also rebuilt and stayed housed in the new Main Building for years afterwards. Around the time of the fire, a music hall was opened. Eventually becoming known as Washington Hall, it hosted plays and musical acts put on by the school. By 1880, a science program was established at the university, and a Science Hall (today LaFortune Student Center) was built in 1883. The hall housed multiple classrooms and science labs needed for early research at the university.\"}',\n",
       "   '{\"question\": \"What program did John Augustine Zahm come to co-direct at Nore Dame?\", \"context\": \"Father Joseph Carrier, C.S.C. was Director of the Science Museum and the Library and Professor of Chemistry and Physics until 1874. Carrier taught that scientific research and its promise for progress were not antagonistic to the ideals of intellectual and moral culture endorsed by the Church. One of Carrier\\'s students was Father John Augustine Zahm (1851\\\\u20131921) who was made Professor and Co-Director of the Science Department at age 23 and by 1900 was a nationally prominent scientist and naturalist. Zahm was active in the Catholic Summer School movement, which introduced Catholic laity to contemporary intellectual issues. His book Evolution and Dogma (1896) defended certain aspects of evolutionary theory as true, and argued, moreover, that even the great Church teachers Thomas Aquinas and Augustine taught something like it. The intervention of Irish American Catholics in Rome prevented Zahm\\'s censure by the Vatican. In 1913, Zahm and former President Theodore Roosevelt embarked on a major expedition through the Amazon.\"}']],\n",
       " 'uris': None,\n",
       " 'data': None}"
      ]
     },
     "execution_count": 21,
     "metadata": {},
     "output_type": "execute_result"
    }
   ],
   "source": [
    "query = 'When did Beyonce start becoming popular ?'\n",
    "query_embedding = get_embeddings([query]).cpu().detach().numpy()\n",
    "def search(question, collection, n_results):\n",
    "    query_embedding = get_embeddings([question]).cpu().detach().numpy().tolist()[0]\n",
    "    results = collection.query(\n",
    "        query_embeddings=[query_embedding],\n",
    "        n_results=n_results\n",
    "    )\n",
    "    return results\n",
    "\n",
    "results = search(query, collection_textqa, 5)\n",
    "results"
   ]
  },
  {
   "cell_type": "markdown",
   "metadata": {},
   "source": [
    "## QA"
   ]
  },
  {
   "cell_type": "code",
   "execution_count": 22,
   "metadata": {},
   "outputs": [],
   "source": [
    "from transformers import pipeline\n",
    "\n",
    "PIPELINE_NAME = 'question-answering'\n",
    "MODEL_NAME = '../models/ReaderEQA/distilbert-finetuned-squad'\n",
    "question_answerer = pipeline(PIPELINE_NAME, model=MODEL_NAME)"
   ]
  },
  {
   "cell_type": "code",
   "execution_count": 26,
   "metadata": {},
   "outputs": [
    {
     "name": "stdout",
     "output_type": "stream",
     "text": [
      "Input question: When did Beyonce start becoming popular ?\n",
      "Top 1\tScore: 0.06992483139038086\n",
      "Context: {\"question\": \"When did study of a germ-free-life begin at Notre Dame?\", \"context\": \"The Lobund Institute grew out of pioneering research in germ-free-life which began in 1928. This area of research originated in a question posed by Pasteur as to whether animal life was possible without bacteria. Though others had taken up this idea, their research was short lived and inconclusive. Lobund was the first research organization to answer definitively, that such life is possible and that it can be prolonged through generations. But the objective was not merely to answer Pasteur's question but also to produce the germ free animal as a new tool for biological and medical research. This objective was reached and for years Lobund was a unique center for the study and production of germ free animals and for their use in biological and medical investigations. Today the work has spread to other universities. In the beginning it was under the Department of Biology and a program leading to the master's degree accompanied the research program. In the 1940s Lobund achieved independent status as a purely research organization and in 1950 was raised to the status of an Institute. In 1958 it was brought back into the Department of Biology as integral part of that department, but with its own program leading to the degree of PhD in Gnotobiotics.\"}\n",
      "Answer: {'score': 0.9296553730964661, 'start': 170, 'end': 174, 'answer': '1928'}\n",
      "\n",
      "Top 2\tScore: 0.07138818502426147\n",
      "Context: {\"question\": \"When did the Scholastic Magazine of Notre dame begin publishing?\", \"context\": \"As at most other universities, Notre Dame's students run a number of news media outlets. The nine student-run outlets include three newspapers, both a radio and television station, and several magazines and journals. Begun as a one-page journal in September 1876, the Scholastic magazine is issued twice monthly and claims to be the oldest continuous collegiate publication in the United States. The other magazine, The Juggler, is released twice a year and focuses on student literature and artwork. The Dome yearbook is published annually. The newspapers have varying publication interests, with The Observer published daily and mainly reporting university and other news, and staffed by students from both Notre Dame and Saint Mary's College. Unlike Scholastic and The Dome, The Observer is an independent publication and does not have a faculty advisor or any editorial oversight from the University. In 1987, when some students believed that The Observer began to show a conservative bias, a liberal newspaper, Common Sense was published. Likewise, in 2003, when other students believed that the paper showed a liberal bias, the conservative paper Irish Rover went into production. Neither paper is published as often as The Observer; however, all three are distributed to all students. Finally, in Spring 2008 an undergraduate journal for political science research, Beyond Politics, made its debut.\"}\n",
      "Answer: {'score': 0.902499258518219, 'start': 341, 'end': 355, 'answer': 'September 1876'}\n",
      "\n",
      "Top 3\tScore: 0.07344293594360352\n",
      "Context: {\"question\": \"What does the Kroc Institute at Notre Dame focus on?\", \"context\": \"As of 2012[update] research continued in many fields. The university president, John Jenkins, described his hope that Notre Dame would become \\\"one of the pre\\u2013eminent research institutions in the world\\\" in his inaugural address. The university has many multi-disciplinary institutes devoted to research in varying fields, including the Medieval Institute, the Kellogg Institute for International Studies, the Kroc Institute for International Peace studies, and the Center for Social Concerns. Recent research includes work on family conflict and child development, genome mapping, the increasing trade deficit of the United States with China, studies in fluid mechanics, computational science and engineering, and marketing trends on the Internet. As of 2013, the university is home to the Notre Dame Global Adaptation Index which ranks countries annually based on how vulnerable they are to climate change and how prepared they are to adapt.\"}\n",
      "Answer: {'score': 0.06520939618349075, 'start': 87, 'end': 91, 'answer': '2012'}\n",
      "\n",
      "Top 4\tScore: 0.07437008619308472\n",
      "Context: {\"question\": \"In what year was the Main Building at Notre Dame razed in a fire?\", \"context\": \"This Main Building, and the library collection, was entirely destroyed by a fire in April 1879, and the school closed immediately and students were sent home. The university founder, Fr. Sorin and the president at the time, the Rev. William Corby, immediately planned for the rebuilding of the structure that had housed virtually the entire University. Construction was started on the 17th of May and by the incredible zeal of administrator and workers the building was completed before the fall semester of 1879. The library collection was also rebuilt and stayed housed in the new Main Building for years afterwards. Around the time of the fire, a music hall was opened. Eventually becoming known as Washington Hall, it hosted plays and musical acts put on by the school. By 1880, a science program was established at the university, and a Science Hall (today LaFortune Student Center) was built in 1883. The hall housed multiple classrooms and science labs needed for early research at the university.\"}\n",
      "Answer: {'score': 0.41239920258522034, 'start': 184, 'end': 188, 'answer': '1879'}\n",
      "\n",
      "Top 5\tScore: 0.07447588443756104\n",
      "Context: {\"question\": \"What program did John Augustine Zahm come to co-direct at Nore Dame?\", \"context\": \"Father Joseph Carrier, C.S.C. was Director of the Science Museum and the Library and Professor of Chemistry and Physics until 1874. Carrier taught that scientific research and its promise for progress were not antagonistic to the ideals of intellectual and moral culture endorsed by the Church. One of Carrier's students was Father John Augustine Zahm (1851\\u20131921) who was made Professor and Co-Director of the Science Department at age 23 and by 1900 was a nationally prominent scientist and naturalist. Zahm was active in the Catholic Summer School movement, which introduced Catholic laity to contemporary intellectual issues. His book Evolution and Dogma (1896) defended certain aspects of evolutionary theory as true, and argued, moreover, that even the great Church teachers Thomas Aquinas and Augustine taught something like it. The intervention of Irish American Catholics in Rome prevented Zahm's censure by the Vatican. In 1913, Zahm and former President Theodore Roosevelt embarked on a major expedition through the Amazon.\"}\n",
      "Answer: {'score': 0.27067747712135315, 'start': 223, 'end': 227, 'answer': '1874'}\n",
      "\n"
     ]
    }
   ],
   "source": [
    "print(f'Input question: {query}')\n",
    "for idx, id_sample in enumerate(results['ids'][0]):\n",
    "    context = results['documents'][0][idx]\n",
    "    answer = question_answerer(\n",
    "        question=query,\n",
    "        context=context\n",
    "    )\n",
    "    print(f'Top {idx + 1}\\tScore: {results[\"distances\"][0][idx]}')\n",
    "    print(f'Context: {context}')\n",
    "    print(f'Answer: {answer}')\n",
    "    print()"
   ]
  }
 ],
 "metadata": {
  "kernelspec": {
   "display_name": "text_img_retrieval",
   "language": "python",
   "name": "python3"
  },
  "language_info": {
   "codemirror_mode": {
    "name": "ipython",
    "version": 3
   },
   "file_extension": ".py",
   "mimetype": "text/x-python",
   "name": "python",
   "nbconvert_exporter": "python",
   "pygments_lexer": "ipython3",
   "version": "3.10.16"
  }
 },
 "nbformat": 4,
 "nbformat_minor": 2
}
